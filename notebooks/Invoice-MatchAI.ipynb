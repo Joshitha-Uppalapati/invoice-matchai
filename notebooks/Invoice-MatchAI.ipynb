{
 "cells": [
  {
   "cell_type": "code",
   "execution_count": 3,
   "id": "19d084e2-4bf3-41c4-b55f-cdd36b14ea8f",
   "metadata": {},
   "outputs": [],
   "source": [
    "import sys\n",
    "import os\n",
    "sys.path.append(os.path.abspath(\"..\"))  # add parent folder to path\n",
    "\n",
    "import pandas as pd\n",
    "from src.reconciliation import reconcile_invoices\n",
    "import matplotlib.pyplot as plt"
   ]
  },
  {
   "cell_type": "code",
   "execution_count": 4,
   "id": "342aa7e6-fc34-46db-a752-8b87c0c7ebd6",
   "metadata": {},
   "outputs": [
    {
     "name": "stdout",
     "output_type": "stream",
     "text": [
      "Invoices shape: (3, 9)\n"
     ]
    },
    {
     "data": {
      "text/html": [
       "<div>\n",
       "<style scoped>\n",
       "    .dataframe tbody tr th:only-of-type {\n",
       "        vertical-align: middle;\n",
       "    }\n",
       "\n",
       "    .dataframe tbody tr th {\n",
       "        vertical-align: top;\n",
       "    }\n",
       "\n",
       "    .dataframe thead th {\n",
       "        text-align: right;\n",
       "    }\n",
       "</style>\n",
       "<table border=\"1\" class=\"dataframe\">\n",
       "  <thead>\n",
       "    <tr style=\"text-align: right;\">\n",
       "      <th></th>\n",
       "      <th>invoice_id</th>\n",
       "      <th>load_id</th>\n",
       "      <th>origin</th>\n",
       "      <th>destination</th>\n",
       "      <th>miles_billed</th>\n",
       "      <th>rate_billed_per_mile</th>\n",
       "      <th>fuel_surcharge_pct</th>\n",
       "      <th>accessorial_desc</th>\n",
       "      <th>accessorial_amount</th>\n",
       "    </tr>\n",
       "  </thead>\n",
       "  <tbody>\n",
       "    <tr>\n",
       "      <th>0</th>\n",
       "      <td>INV-1001</td>\n",
       "      <td>LD-7781</td>\n",
       "      <td>Buffalo, NY</td>\n",
       "      <td>Columbus, OH</td>\n",
       "      <td>312</td>\n",
       "      <td>2.15</td>\n",
       "      <td>34.0</td>\n",
       "      <td>Lift Gate Service</td>\n",
       "      <td>95.0</td>\n",
       "    </tr>\n",
       "    <tr>\n",
       "      <th>1</th>\n",
       "      <td>INV-1002</td>\n",
       "      <td>LD-7782</td>\n",
       "      <td>Buffalo, NY</td>\n",
       "      <td>Columbus, OH</td>\n",
       "      <td>312</td>\n",
       "      <td>2.15</td>\n",
       "      <td>37.0</td>\n",
       "      <td>Liftgate svc</td>\n",
       "      <td>125.0</td>\n",
       "    </tr>\n",
       "    <tr>\n",
       "      <th>2</th>\n",
       "      <td>INV-1003</td>\n",
       "      <td>LD-7783</td>\n",
       "      <td>Toledo, OH</td>\n",
       "      <td>Detroit, MI</td>\n",
       "      <td>62</td>\n",
       "      <td>3.05</td>\n",
       "      <td>29.0</td>\n",
       "      <td>Hazmat Handling</td>\n",
       "      <td>80.0</td>\n",
       "    </tr>\n",
       "  </tbody>\n",
       "</table>\n",
       "</div>"
      ],
      "text/plain": [
       "  invoice_id  load_id       origin   destination  miles_billed  \\\n",
       "0   INV-1001  LD-7781  Buffalo, NY  Columbus, OH           312   \n",
       "1   INV-1002  LD-7782  Buffalo, NY  Columbus, OH           312   \n",
       "2   INV-1003  LD-7783   Toledo, OH   Detroit, MI            62   \n",
       "\n",
       "   rate_billed_per_mile  fuel_surcharge_pct   accessorial_desc  \\\n",
       "0                  2.15                34.0  Lift Gate Service   \n",
       "1                  2.15                37.0       Liftgate svc   \n",
       "2                  3.05                29.0    Hazmat Handling   \n",
       "\n",
       "   accessorial_amount  \n",
       "0                95.0  \n",
       "1               125.0  \n",
       "2                80.0  "
      ]
     },
     "execution_count": 4,
     "metadata": {},
     "output_type": "execute_result"
    }
   ],
   "source": [
    "invoices = pd.read_csv(\"../data/invoices_sample.csv\")\n",
    "rates = pd.read_csv(\"../data/rates_sample.csv\")\n",
    "\n",
    "print(\"Invoices shape:\", invoices.shape)\n",
    "invoices.head()"
   ]
  },
  {
   "cell_type": "code",
   "execution_count": 5,
   "id": "c718192a-10e7-41b9-91d8-2cb10471d6a3",
   "metadata": {},
   "outputs": [
    {
     "data": {
      "text/html": [
       "<div>\n",
       "<style scoped>\n",
       "    .dataframe tbody tr th:only-of-type {\n",
       "        vertical-align: middle;\n",
       "    }\n",
       "\n",
       "    .dataframe tbody tr th {\n",
       "        vertical-align: top;\n",
       "    }\n",
       "\n",
       "    .dataframe thead th {\n",
       "        text-align: right;\n",
       "    }\n",
       "</style>\n",
       "<table border=\"1\" class=\"dataframe\">\n",
       "  <thead>\n",
       "    <tr style=\"text-align: right;\">\n",
       "      <th></th>\n",
       "      <th>invoice_id</th>\n",
       "      <th>load_id</th>\n",
       "      <th>origin</th>\n",
       "      <th>destination</th>\n",
       "      <th>rate_diff_pct</th>\n",
       "      <th>fuel_diff_pct_points</th>\n",
       "      <th>accessorial_similarity</th>\n",
       "      <th>flags</th>\n",
       "      <th>confidence_score</th>\n",
       "      <th>recoverable_amount_est</th>\n",
       "    </tr>\n",
       "  </thead>\n",
       "  <tbody>\n",
       "    <tr>\n",
       "      <th>0</th>\n",
       "      <td>INV-1001</td>\n",
       "      <td>LD-7781</td>\n",
       "      <td>Buffalo, NY</td>\n",
       "      <td>Columbus, OH</td>\n",
       "      <td>2.38</td>\n",
       "      <td>-1.0</td>\n",
       "      <td>1.000</td>\n",
       "      <td>RATE_OVER_CONTRACT</td>\n",
       "      <td>1.000</td>\n",
       "      <td>15.6</td>\n",
       "    </tr>\n",
       "    <tr>\n",
       "      <th>1</th>\n",
       "      <td>INV-1002</td>\n",
       "      <td>LD-7782</td>\n",
       "      <td>Buffalo, NY</td>\n",
       "      <td>Columbus, OH</td>\n",
       "      <td>2.38</td>\n",
       "      <td>2.0</td>\n",
       "      <td>0.828</td>\n",
       "      <td>RATE_OVER_CONTRACT;FUEL_SURCHARGE_OVER_CONTRAC...</td>\n",
       "      <td>0.914</td>\n",
       "      <td>53.7</td>\n",
       "    </tr>\n",
       "    <tr>\n",
       "      <th>2</th>\n",
       "      <td>INV-1003</td>\n",
       "      <td>LD-7783</td>\n",
       "      <td>Toledo, OH</td>\n",
       "      <td>Detroit, MI</td>\n",
       "      <td>0.00</td>\n",
       "      <td>-1.0</td>\n",
       "      <td>1.000</td>\n",
       "      <td>OK</td>\n",
       "      <td>1.000</td>\n",
       "      <td>0.0</td>\n",
       "    </tr>\n",
       "  </tbody>\n",
       "</table>\n",
       "</div>"
      ],
      "text/plain": [
       "  invoice_id  load_id       origin   destination  rate_diff_pct  \\\n",
       "0   INV-1001  LD-7781  Buffalo, NY  Columbus, OH           2.38   \n",
       "1   INV-1002  LD-7782  Buffalo, NY  Columbus, OH           2.38   \n",
       "2   INV-1003  LD-7783   Toledo, OH   Detroit, MI           0.00   \n",
       "\n",
       "   fuel_diff_pct_points  accessorial_similarity  \\\n",
       "0                  -1.0                   1.000   \n",
       "1                   2.0                   0.828   \n",
       "2                  -1.0                   1.000   \n",
       "\n",
       "                                               flags  confidence_score  \\\n",
       "0                                 RATE_OVER_CONTRACT             1.000   \n",
       "1  RATE_OVER_CONTRACT;FUEL_SURCHARGE_OVER_CONTRAC...             0.914   \n",
       "2                                                 OK             1.000   \n",
       "\n",
       "   recoverable_amount_est  \n",
       "0                    15.6  \n",
       "1                    53.7  \n",
       "2                     0.0  "
      ]
     },
     "metadata": {},
     "output_type": "display_data"
    },
    {
     "name": "stdout",
     "output_type": "stream",
     "text": [
      "\n",
      "Summary: {'total_invoices': 3, 'pct_flagged': np.float64(66.67), 'total_recoverable_usd': np.float64(69.3)}\n"
     ]
    }
   ],
   "source": [
    "results, summary = reconcile_invoices(invoices, rates)\n",
    "display(results)\n",
    "print(\"\\nSummary:\", summary)"
   ]
  },
  {
   "cell_type": "code",
   "execution_count": 6,
   "id": "b72e8086-d2d2-45bd-b591-91ea208fffd9",
   "metadata": {},
   "outputs": [
    {
     "data": {
      "image/png": "[encoded data removed]",
      "text/plain": [
       "<Figure size 640x480 with 1 Axes>"
      ]
     },
     "metadata": {},
     "output_type": "display_data"
    }
   ],
   "source": [
    "results['recoverable_amount_est'].plot(\n",
    "    kind='bar',\n",
    "    title='Recoverable Amount per Invoice',\n",
    "    ylabel='USD'\n",
    ")\n",
    "plt.show()"
   ]
  },
  {
   "cell_type": "code",
   "execution_count": 4,
   "id": "6dfa4d84-9270-4669-a3c9-96d6c3bfedb4",
   "metadata": {},
   "outputs": [
    {
     "data": {
      "text/html": [
       "<div>\n",
       "<style scoped>\n",
       "    .dataframe tbody tr th:only-of-type {\n",
       "        vertical-align: middle;\n",
       "    }\n",
       "\n",
       "    .dataframe tbody tr th {\n",
       "        vertical-align: top;\n",
       "    }\n",
       "\n",
       "    .dataframe thead th {\n",
       "        text-align: right;\n",
       "    }\n",
       "</style>\n",
       "<table border=\"1\" class=\"dataframe\">\n",
       "  <thead>\n",
       "    <tr style=\"text-align: right;\">\n",
       "      <th></th>\n",
       "      <th>metric</th>\n",
       "      <th>value</th>\n",
       "    </tr>\n",
       "  </thead>\n",
       "  <tbody>\n",
       "    <tr>\n",
       "      <th>0</th>\n",
       "      <td>Total invoice lines reviewed</td>\n",
       "      <td>3</td>\n",
       "    </tr>\n",
       "    <tr>\n",
       "      <th>1</th>\n",
       "      <td>% of invoices flagged for exception</td>\n",
       "      <td>66.67%</td>\n",
       "    </tr>\n",
       "    <tr>\n",
       "      <th>2</th>\n",
       "      <td>Estimated recoverable $</td>\n",
       "      <td>$69.3</td>\n",
       "    </tr>\n",
       "  </tbody>\n",
       "</table>\n",
       "</div>"
      ],
      "text/plain": [
       "                                metric   value\n",
       "0         Total invoice lines reviewed       3\n",
       "1  % of invoices flagged for exception  66.67%\n",
       "2              Estimated recoverable $   $69.3"
      ]
     },
     "metadata": {},
     "output_type": "display_data"
    },
    {
     "data": {
      "image/png": "[encoded data removed]",
      "text/plain": [
       "<Figure size 640x480 with 1 Axes>"
      ]
     },
     "metadata": {},
     "output_type": "display_data"
    },
    {
     "data": {
      "image/png": "[encoded data removed]",
      "text/plain": [
       "<Figure size 640x480 with 1 Axes>"
      ]
     },
     "metadata": {},
     "output_type": "display_data"
    },
    {
     "name": "stdout",
     "output_type": "stream",
     "text": [
      "\n",
      "Summary: {'total_invoices': 3, 'pct_flagged': np.float64(66.67), 'total_recoverable_usd': np.float64(69.3)}\n"
     ]
    }
   ],
   "source": [
    "import sys, os\n",
    "sys.path.append(os.path.abspath(\"..\"))\n",
    "\n",
    "import pandas as pd\n",
    "import matplotlib.pyplot as plt\n",
    "from src.reconciliation import reconcile_invoices\n",
    "\n",
    "invoices = pd.read_csv(\"../data/invoices_sample.csv\")\n",
    "rates = pd.read_csv(\"../data/rates_sample.csv\")\n",
    "\n",
    "results, summary = reconcile_invoices(invoices, rates)\n",
    "\n",
    "# --- Dashboard summary table ---\n",
    "dashboard = pd.DataFrame({\n",
    "    \"metric\": [\n",
    "        \"Total invoice lines reviewed\",\n",
    "        \"% of invoices flagged for exception\",\n",
    "        \"Estimated recoverable $\"\n",
    "    ],\n",
    "    \"value\": [\n",
    "        summary[\"total_invoices\"],\n",
    "        f\"{summary['pct_flagged']}%\",\n",
    "        f\"${round(summary['total_recoverable_usd'], 2)}\"\n",
    "    ]\n",
    "})\n",
    "\n",
    "display(dashboard)\n",
    "\n",
    "# --- Pie chart: flagged vs clean ---\n",
    "flagged_count = (results[\"flags\"] != \"OK\").sum()\n",
    "clean_count = (results[\"flags\"] == \"OK\").sum()\n",
    "\n",
    "plt.figure()\n",
    "plt.pie(\n",
    "    [flagged_count, clean_count],\n",
    "    labels=[\"Flagged\", \"Clean\"],\n",
    "    autopct=\"%1.1f%%\",\n",
    ")\n",
    "plt.title(\"Invoice Line Status Breakdown\")\n",
    "plt.show()\n",
    "\n",
    "# --- Bar chart: $ recoverable per invoice line ---\n",
    "results['recoverable_amount_est'].plot(\n",
    "    kind='bar',\n",
    "    title='Recoverable Amount per Invoice Line',\n",
    "    ylabel='USD'\n",
    ")\n",
    "plt.show()\n",
    "\n",
    "print(\"\\nSummary:\", summary)\n"
   ]
  }
 ],
 "metadata": {
  "kernelspec": {
   "display_name": "Python 3 (ipykernel)",
   "language": "python",
   "name": "python3"
  },
  "language_info": {
   "codemirror_mode": {
    "name": "ipython",
    "version": 3
   },
   "file_extension": ".py",
   "mimetype": "text/x-python",
   "name": "python",
   "nbconvert_exporter": "python",
   "pygments_lexer": "ipython3",
   "version": "3.12.9"
  }
 },
 "nbformat": 4,
 "nbformat_minor": 5
}
